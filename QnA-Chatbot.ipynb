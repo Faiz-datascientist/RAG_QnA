{
 "cells": [
  {
   "cell_type": "code",
   "execution_count": 1,
   "id": "3785292e",
   "metadata": {},
   "outputs": [
    {
     "data": {
      "text/plain": [
       "True"
      ]
     },
     "execution_count": 1,
     "metadata": {},
     "output_type": "execute_result"
    }
   ],
   "source": [
    "import os\n",
    "from dotenv import load_dotenv\n",
    "load_dotenv()"
   ]
  },
  {
   "cell_type": "code",
   "execution_count": 3,
   "id": "ad4305db",
   "metadata": {},
   "outputs": [],
   "source": [
    "api_key=os.getenv(\"Groq_api\")"
   ]
  },
  {
   "cell_type": "code",
   "execution_count": 2,
   "id": "9f08e01b",
   "metadata": {},
   "outputs": [],
   "source": [
    "from langchain_groq import ChatGroq\n",
    "from langchain_core.chat_history import BaseChatMessageHistory\n",
    "from langchain_community.chat_message_histories import ChatMessageHistory\n",
    "from langchain_core.messages import HumanMessage,SystemMessage,AIMessage"
   ]
  },
  {
   "cell_type": "code",
   "execution_count": 7,
   "id": "29fbe506",
   "metadata": {},
   "outputs": [],
   "source": [
    "llm=ChatGroq(model=\"Gemma2-9b-it\",api_key=api_key)"
   ]
  },
  {
   "cell_type": "code",
   "execution_count": 8,
   "id": "75c09c65",
   "metadata": {},
   "outputs": [
    {
     "data": {
      "text/plain": [
       "ChatGroq(client=<groq.resources.chat.completions.Completions object at 0x000001D4620D07F0>, async_client=<groq.resources.chat.completions.AsyncCompletions object at 0x000001D4620D1D80>, model_name='Gemma2-9b-it', model_kwargs={}, groq_api_key=SecretStr('**********'))"
      ]
     },
     "execution_count": 8,
     "metadata": {},
     "output_type": "execute_result"
    }
   ],
   "source": [
    "llm"
   ]
  },
  {
   "cell_type": "code",
   "execution_count": 10,
   "id": "28c88edf",
   "metadata": {},
   "outputs": [
    {
     "data": {
      "text/plain": [
       "AIMessage(content=\"Based on your statement, you are MD Faiz Khan, a data scientist. \\n\\nIs there anything else you'd like to know or discuss about yourself or data science? I'm here to help!  \\n\", additional_kwargs={}, response_metadata={'token_usage': {'completion_tokens': 47, 'prompt_tokens': 37, 'total_tokens': 84, 'completion_time': 0.085454545, 'prompt_time': 0.002407726, 'queue_time': 0.235230483, 'total_time': 0.087862271}, 'model_name': 'Gemma2-9b-it', 'system_fingerprint': 'fp_10c08bf97d', 'finish_reason': 'stop', 'logprobs': None}, id='run-49657d13-252e-405e-83b7-439584be3737-0', usage_metadata={'input_tokens': 37, 'output_tokens': 47, 'total_tokens': 84})"
      ]
     },
     "execution_count": 10,
     "metadata": {},
     "output_type": "execute_result"
    }
   ],
   "source": [
    "messages=([\n",
    "    HumanMessage(content=\"Hi my name is MD faiz khan and i am a data scientist\"),\n",
    "    HumanMessage(content=\"who am i?\")\n",
    "])\n",
    "\n",
    "llm.invoke(messages)"
   ]
  },
  {
   "cell_type": "code",
   "execution_count": 14,
   "id": "68f10876",
   "metadata": {},
   "outputs": [],
   "source": [
    "from langchain_core.runnables import RunnableWithMessageHistory"
   ]
  },
  {
   "cell_type": "code",
   "execution_count": 15,
   "id": "09544e35",
   "metadata": {},
   "outputs": [],
   "source": [
    "store={}\n",
    "def get_session_history(session_id:str)-> BaseChatMessageHistory:\n",
    "    if session_id not in store:\n",
    "        store[session_id]=ChatMessageHistory()\n",
    "\n",
    "    return store[session_id]\n",
    "\n",
    "with_message_history=RunnableWithMessageHistory(llm,get_session_history)\n"
   ]
  },
  {
   "cell_type": "code",
   "execution_count": 16,
   "id": "0aecfbf2",
   "metadata": {},
   "outputs": [],
   "source": [
    "config={\"configurable\":{\"session_id\":\"chat1\"}}"
   ]
  },
  {
   "cell_type": "code",
   "execution_count": 18,
   "id": "84ad5404",
   "metadata": {},
   "outputs": [
    {
     "data": {
      "text/plain": [
       "AIMessage(content=\"Hi Faiz, it's nice to meet you!\\n\\nThat's awesome, data science is a fascinating field. What kind of data science work do you do? \\n\\nI'm always eager to learn more about how people are using data to make a difference.\\n\", additional_kwargs={}, response_metadata={'token_usage': {'completion_tokens': 59, 'prompt_tokens': 22, 'total_tokens': 81, 'completion_time': 0.107272727, 'prompt_time': 0.003539463, 'queue_time': 0.233497135, 'total_time': 0.11081219}, 'model_name': 'Gemma2-9b-it', 'system_fingerprint': 'fp_10c08bf97d', 'finish_reason': 'stop', 'logprobs': None}, id='run-b5b16c34-c50d-4188-b679-7f69c77f5e80-0', usage_metadata={'input_tokens': 22, 'output_tokens': 59, 'total_tokens': 81})"
      ]
     },
     "execution_count": 18,
     "metadata": {},
     "output_type": "execute_result"
    }
   ],
   "source": [
    "with_message_history.invoke(\n",
    "    [HumanMessage(content=\"Hi, my name is faiz and i am a data scientist\")],\n",
    "    config=config,\n",
    ")"
   ]
  },
  {
   "cell_type": "code",
   "execution_count": 19,
   "id": "827a7d05",
   "metadata": {},
   "outputs": [
    {
     "data": {
      "text/plain": [
       "AIMessage(content=\"You are Faiz, a data scientist! \\n\\nIs there anything else you'd like to tell me about yourself, or perhaps something you'd like to discuss related to data science? 😊  \\n\", additional_kwargs={}, response_metadata={'token_usage': {'completion_tokens': 44, 'prompt_tokens': 93, 'total_tokens': 137, 'completion_time': 0.08, 'prompt_time': 0.00553861, 'queue_time': 0.236166568, 'total_time': 0.08553861}, 'model_name': 'Gemma2-9b-it', 'system_fingerprint': 'fp_10c08bf97d', 'finish_reason': 'stop', 'logprobs': None}, id='run-2b9df8b1-2973-4d05-b74c-4d7ca330243d-0', usage_metadata={'input_tokens': 93, 'output_tokens': 44, 'total_tokens': 137})"
      ]
     },
     "execution_count": 19,
     "metadata": {},
     "output_type": "execute_result"
    }
   ],
   "source": [
    "with_message_history.invoke(\n",
    "    [HumanMessage(content=\"who i am?\")],\n",
    "    config=config,\n",
    ")"
   ]
  },
  {
   "cell_type": "code",
   "execution_count": 22,
   "id": "97feaa31",
   "metadata": {},
   "outputs": [],
   "source": [
    "#Using Prompts\n",
    "\n",
    "from langchain_core.prompts import ChatPromptTemplate,MessagesPlaceholder\n",
    "\n",
    "prompts=ChatPromptTemplate.from_messages([\n",
    "    (\"system\",\"You're a very helpful asistant, Kindly help this user also based on your ability\"),\n",
    "    MessagesPlaceholder(variable_name=\"messages\")\n",
    "])\n"
   ]
  },
  {
   "cell_type": "code",
   "execution_count": 23,
   "id": "b4d33fea",
   "metadata": {},
   "outputs": [],
   "source": [
    "chains=prompts | llm"
   ]
  },
  {
   "cell_type": "code",
   "execution_count": 24,
   "id": "b52f72a8",
   "metadata": {},
   "outputs": [
    {
     "data": {
      "text/plain": [
       "AIMessage(content=\"Hi Faiz! 👋  It's nice to meet you.\\n\\nHow can I help you today?  \\n\\nJust let me know what you need, and I'll do my best to assist you. 😄\\n\\n\", additional_kwargs={}, response_metadata={'token_usage': {'completion_tokens': 48, 'prompt_tokens': 33, 'total_tokens': 81, 'completion_time': 0.087272727, 'prompt_time': 0.002416146, 'queue_time': 0.230693873, 'total_time': 0.089688873}, 'model_name': 'Gemma2-9b-it', 'system_fingerprint': 'fp_10c08bf97d', 'finish_reason': 'stop', 'logprobs': None}, id='run-2f12ca34-83f0-4de7-9e24-a04ca5366e07-0', usage_metadata={'input_tokens': 33, 'output_tokens': 48, 'total_tokens': 81})"
      ]
     },
     "execution_count": 24,
     "metadata": {},
     "output_type": "execute_result"
    }
   ],
   "source": [
    "chains.invoke({\"messages\":[HumanMessage(content=\"Hi my name is faiz\")]})"
   ]
  },
  {
   "cell_type": "code",
   "execution_count": 25,
   "id": "5e2cc14e",
   "metadata": {},
   "outputs": [],
   "source": [
    "with_message_history=RunnableWithMessageHistory(chains,get_session_history)"
   ]
  },
  {
   "cell_type": "code",
   "execution_count": 26,
   "id": "0b16df87",
   "metadata": {},
   "outputs": [
    {
     "data": {
      "text/plain": [
       "AIMessage(content='Your name is Faiz.  \\n\\nI remember that from our introduction!  Is there anything else I can help you with? 😄 \\n', additional_kwargs={}, response_metadata={'token_usage': {'completion_tokens': 31, 'prompt_tokens': 167, 'total_tokens': 198, 'completion_time': 0.056363636, 'prompt_time': 0.008448443, 'queue_time': 0.234131165, 'total_time': 0.064812079}, 'model_name': 'Gemma2-9b-it', 'system_fingerprint': 'fp_10c08bf97d', 'finish_reason': 'stop', 'logprobs': None}, id='run-f09ec278-53f8-4f30-9399-65eb74811ae6-0', usage_metadata={'input_tokens': 167, 'output_tokens': 31, 'total_tokens': 198})"
      ]
     },
     "execution_count": 26,
     "metadata": {},
     "output_type": "execute_result"
    }
   ],
   "source": [
    "with_message_history.invoke([HumanMessage(content=\"whats my name?\")],\n",
    "                            config=config)"
   ]
  },
  {
   "cell_type": "code",
   "execution_count": null,
   "id": "876abf50",
   "metadata": {},
   "outputs": [],
   "source": [
    "# For Complicated chat history use multiple input\n",
    "\n"
   ]
  },
  {
   "cell_type": "code",
   "execution_count": 28,
   "id": "4dccc66e",
   "metadata": {},
   "outputs": [
    {
     "data": {
      "text/plain": [
       "120"
      ]
     },
     "execution_count": 28,
     "metadata": {},
     "output_type": "execute_result"
    }
   ],
   "source": [
    "def fact(n):\n",
    "    if (n==0) or (n==1):\n",
    "        return 1\n",
    "    else:\n",
    "        sum=n*fact(n-1)\n",
    "    return sum\n",
    "\n",
    "fact(5)"
   ]
  },
  {
   "cell_type": "code",
   "execution_count": 30,
   "id": "096b59ac",
   "metadata": {},
   "outputs": [
    {
     "data": {
      "text/plain": [
       "[6, 5, 4, 3, 2, 1]"
      ]
     },
     "execution_count": 30,
     "metadata": {},
     "output_type": "execute_result"
    }
   ],
   "source": [
    "def reverse(n):\n",
    "    b=n[::-1]\n",
    "\n",
    "    return b\n",
    "n=[1,2,3,4,5,6]\n",
    "reverse(n)"
   ]
  },
  {
   "cell_type": "code",
   "execution_count": null,
   "id": "306ea811",
   "metadata": {},
   "outputs": [],
   "source": [
    "\n"
   ]
  }
 ],
 "metadata": {
  "kernelspec": {
   "display_name": "Python 3",
   "language": "python",
   "name": "python3"
  },
  "language_info": {
   "codemirror_mode": {
    "name": "ipython",
    "version": 3
   },
   "file_extension": ".py",
   "mimetype": "text/x-python",
   "name": "python",
   "nbconvert_exporter": "python",
   "pygments_lexer": "ipython3",
   "version": "3.10.9"
  }
 },
 "nbformat": 4,
 "nbformat_minor": 5
}
